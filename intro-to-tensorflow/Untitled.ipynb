{
 "cells": [
  {
   "cell_type": "code",
   "execution_count": 63,
   "metadata": {
    "collapsed": false
   },
   "outputs": [
    {
     "ename": "ModuleNotFoundError",
     "evalue": "No module named 'Progressbar'",
     "output_type": "error",
     "traceback": [
      "\u001b[0;31m---------------------------------------------------------------------------\u001b[0m",
      "\u001b[0;31mModuleNotFoundError\u001b[0m                       Traceback (most recent call last)",
      "\u001b[0;32m<ipython-input-63-5a24ab14f952>\u001b[0m in \u001b[0;36m<module>\u001b[0;34m()\u001b[0m\n\u001b[1;32m      8\u001b[0m \u001b[0;32mimport\u001b[0m \u001b[0mtensorflow\u001b[0m \u001b[0;32mas\u001b[0m \u001b[0mtf\u001b[0m\u001b[0;34m\u001b[0m\u001b[0m\n\u001b[1;32m      9\u001b[0m \u001b[0;32mfrom\u001b[0m \u001b[0mtqdm\u001b[0m \u001b[0;32mimport\u001b[0m \u001b[0mtqdm_notebook\u001b[0m \u001b[0;32mas\u001b[0m \u001b[0mtqdm\u001b[0m\u001b[0;34m\u001b[0m\u001b[0m\n\u001b[0;32m---> 10\u001b[0;31m \u001b[0;32mimport\u001b[0m \u001b[0mProgressbar\u001b[0m\u001b[0;34m\u001b[0m\u001b[0m\n\u001b[0m\u001b[1;32m     11\u001b[0m \u001b[0;32mimport\u001b[0m \u001b[0mmatplotlib\u001b[0m\u001b[0;34m.\u001b[0m\u001b[0mpyplot\u001b[0m \u001b[0;32mas\u001b[0m \u001b[0mplt\u001b[0m\u001b[0;34m\u001b[0m\u001b[0m\n\u001b[1;32m     12\u001b[0m \u001b[0;34m\u001b[0m\u001b[0m\n",
      "\u001b[0;31mModuleNotFoundError\u001b[0m: No module named 'Progressbar'"
     ]
    }
   ],
   "source": [
    "%matplotlib inline\n",
    "\n",
    "# Load the modules\n",
    "import pickle\n",
    "import math\n",
    "\n",
    "import numpy as np\n",
    "import tensorflow as tf\n",
    "from tqdm import tqdm_notebook as tqdm\n",
    "import Progressbar\n",
    "import matplotlib.pyplot as plt\n",
    "\n",
    "# Reload the data\n",
    "pickle_file = 'notMNIST.pickle'\n",
    "with open(pickle_file, 'rb') as f:\n",
    "    pickle_data = pickle.load(f)\n",
    "    train_features = pickle_data['train_dataset']\n",
    "    train_labels = pickle_data['train_labels']\n",
    "    valid_features = pickle_data['valid_dataset']\n",
    "    valid_labels = pickle_data['valid_labels']\n",
    "    test_features = pickle_data['test_dataset']\n",
    "    test_labels = pickle_data['test_labels']\n",
    "    del pickle_data  # Free up memory\n",
    "\n",
    "print('Data and modules loaded.')"
   ]
  },
  {
   "cell_type": "code",
   "execution_count": 58,
   "metadata": {
    "collapsed": false
   },
   "outputs": [],
   "source": [
    "n_features = train_features.shape[1]\n",
    "n_categories = train_labels.shape[1]\n",
    "n_items = train_features.shape[0]\n",
    "batch_size = 128\n",
    "epochs =1000\n",
    "features = tf.placeholder(tf.float32,(None,n_features ))\n",
    "labels = tf.placeholder(tf.float32,(None, n_categories))\n",
    "\n",
    "weights = tf.Variable(tf.random_normal([n_features, n_categories]))\n",
    "bias = tf.Variable(tf.zeros(n_categories))"
   ]
  },
  {
   "cell_type": "code",
   "execution_count": 59,
   "metadata": {
    "collapsed": false
   },
   "outputs": [],
   "source": [
    "logits = tf.add(tf.matmul(features,weights),bias)\n",
    "loss = tf.reduce_mean(tf.nn.softmax_cross_entropy_with_logits(logits=logits, labels=labels))\n",
    "optimizer = tf.train.GradientDescentOptimizer(learning_rate=0.001).minimize(loss)"
   ]
  },
  {
   "cell_type": "code",
   "execution_count": 60,
   "metadata": {
    "collapsed": false
   },
   "outputs": [],
   "source": [
    "accuracy = tf.reduce_mean(tf.cast(tf.equal(tf.argmax(logits,1), tf.argmax(labels,1)),tf.float32))"
   ]
  },
  {
   "cell_type": "code",
   "execution_count": 62,
   "metadata": {
    "collapsed": false
   },
   "outputs": [
    {
     "name": "stdout",
     "output_type": "stream",
     "text": [
      "0.8547\n"
     ]
    }
   ],
   "source": [
    "init = tf.global_variables_initializer()\n",
    "with tf.Session() as sess:\n",
    "    sess.run(init)\n",
    "    batch_count = np.int32(np.ceil((n_items/batch_size)))\n",
    "    for epoch in range(epochs):\n",
    "        batch_start = 0\n",
    "        #batches_pbar = tqdm(range(batch_count), desc='Epoch {:>2}/{}'.format(epoch+1, epochs), unit='batches')\n",
    "        for batch in range(batch_count): #batches_pbar:\n",
    "            batch_chunk = batch_size if batch < batch_count -1 else n_items % batch_size\n",
    "            #print(batch_start, batch_chunk)\n",
    "            batch_train_features = train_features[batch_start:batch_start + batch_chunk]\n",
    "            batch_train_labels = train_labels[batch_start:batch_start + batch_chunk]\n",
    "            batch_start += batch_chunk\n",
    "            #batches_pbar.update()\n",
    "            sess.run([optimizer,loss],feed_dict= {features: batch_train_features, labels: batch_train_labels})\n",
    "    output = sess.run(accuracy, feed_dict= {features: test_features, labels: test_labels})\n",
    "    print(output)"
   ]
  },
  {
   "cell_type": "code",
   "execution_count": 42,
   "metadata": {
    "collapsed": false
   },
   "outputs": [
    {
     "data": {
      "text/plain": [
       "array([[ 0.1       ,  0.1       ,  0.1       , ...,  0.74627453,\n",
       "         0.71176475,  0.68352944],\n",
       "       [ 0.36666667,  0.90000004,  0.88745099, ...,  0.83725494,\n",
       "         0.87176472,  0.84039217],\n",
       "       [ 0.65529418,  0.90000004,  0.85294122, ...,  0.88431376,\n",
       "         0.90000004,  0.76509809],\n",
       "       ..., \n",
       "       [ 0.1       ,  0.1       ,  0.1       , ...,  0.1       ,\n",
       "         0.10313725,  0.10941177],\n",
       "       [ 0.90000004,  0.90000004,  0.90000004, ...,  0.10627451,\n",
       "         0.1       ,  0.1       ],\n",
       "       [ 0.1       ,  0.1       ,  0.1       , ...,  0.90000004,\n",
       "         0.90000004,  0.73058826]], dtype=float32)"
      ]
     },
     "execution_count": 42,
     "metadata": {},
     "output_type": "execute_result"
    }
   ],
   "source": [
    "train_features[1:10]"
   ]
  },
  {
   "cell_type": "code",
   "execution_count": 37,
   "metadata": {
    "collapsed": false
   },
   "outputs": [
    {
     "name": "stderr",
     "output_type": "stream",
     "text": [
      "\n",
      "\n",
      "  0%|          | 0/114 [00:00<?, ?batches/s]\u001b[A\u001b[A"
     ]
    }
   ],
   "source": [
    "ans = tqdm(range(114), unit='batches')"
   ]
  },
  {
   "cell_type": "code",
   "execution_count": 36,
   "metadata": {
    "collapsed": false
   },
   "outputs": [
    {
     "name": "stdout",
     "output_type": "stream",
     "text": [
      "test\n",
      "test\n",
      "test\n",
      "test\n",
      "test\n",
      "test\n",
      "test\n",
      "test\n",
      "test\n",
      "test\n",
      "test\n",
      "test\n",
      "test\n",
      "test\n",
      "test\n",
      "test\n",
      "test\n",
      "test\n",
      "test\n",
      "test\n",
      "test\n",
      "test\n",
      "test\n",
      "test\n",
      "test\n",
      "test\n",
      "test\n",
      "test\n",
      "test\n",
      "test\n",
      "test\n",
      "test\n",
      "test\n",
      "test\n",
      "test\n",
      "test\n",
      "test\n",
      "test\n",
      "test\n",
      "test\n",
      "test\n",
      "test\n",
      "test\n",
      "test\n",
      "test\n",
      "test\n",
      "test\n",
      "test\n",
      "test\n",
      "test\n",
      "test\n",
      "test\n",
      "test\n",
      "test\n",
      "test\n",
      "test\n",
      "test\n",
      "test\n",
      "test\n",
      "test\n",
      "test\n",
      "test\n",
      "test\n",
      "test\n",
      "test\n",
      "test\n",
      "test\n",
      "test\n",
      "test\n",
      "test\n",
      "test\n",
      "test\n",
      "test\n",
      "test\n",
      "test\n",
      "test\n",
      "test\n",
      "test\n",
      "test\n",
      "test\n",
      "test\n",
      "test\n",
      "test\n",
      "test\n",
      "test\n",
      "test\n",
      "test\n",
      "test\n",
      "test\n",
      "test\n",
      "test\n",
      "test\n",
      "test\n",
      "test\n",
      "test\n",
      "test\n",
      "test\n",
      "test\n",
      "test\n",
      "test\n",
      "test\n",
      "test\n",
      "test\n",
      "test\n",
      "test\n",
      "test\n",
      "test\n",
      "test\n",
      "test\n",
      "test\n",
      "test\n",
      "test\n",
      "test\n",
      "test\n"
     ]
    }
   ],
   "source": [
    "for a in ans:\n",
    "    print(\"test\")"
   ]
  },
  {
   "cell_type": "code",
   "execution_count": 64,
   "metadata": {
    "collapsed": false
   },
   "outputs": [
    {
     "name": "stdout",
     "output_type": "stream",
     "text": [
      "Successfully downloaded train-images-idx3-ubyte.gz 9912422 bytes.\n",
      "Extracting ./train-images-idx3-ubyte.gz\n",
      "Successfully downloaded train-labels-idx1-ubyte.gz 28881 bytes.\n",
      "Extracting ./train-labels-idx1-ubyte.gz\n",
      "Successfully downloaded t10k-images-idx3-ubyte.gz 1648877 bytes.\n",
      "Extracting ./t10k-images-idx3-ubyte.gz\n",
      "Successfully downloaded t10k-labels-idx1-ubyte.gz 4542 bytes.\n",
      "Extracting ./t10k-labels-idx1-ubyte.gz\n"
     ]
    }
   ],
   "source": [
    "from tensorflow.examples.tutorials.mnist import input_data\n",
    "mnist = input_data.read_data_sets(\".\", one_hot=True, reshape=False)"
   ]
  },
  {
   "cell_type": "code",
   "execution_count": 66,
   "metadata": {
    "collapsed": false
   },
   "outputs": [
    {
     "data": {
      "text/plain": [
       "(55000, 28, 28, 1)"
      ]
     },
     "execution_count": 66,
     "metadata": {},
     "output_type": "execute_result"
    }
   ],
   "source": [
    "mnist.train.images.shape"
   ]
  },
  {
   "cell_type": "code",
   "execution_count": null,
   "metadata": {
    "collapsed": true
   },
   "outputs": [],
   "source": []
  }
 ],
 "metadata": {
  "kernelspec": {
   "display_name": "Python 3",
   "language": "python",
   "name": "python3"
  },
  "language_info": {
   "codemirror_mode": {
    "name": "ipython",
    "version": 3
   },
   "file_extension": ".py",
   "mimetype": "text/x-python",
   "name": "python",
   "nbconvert_exporter": "python",
   "pygments_lexer": "ipython3",
   "version": "3.6.1"
  },
  "widgets": {
   "state": {
    "005d1790f6ee4d07b871b834ad39704f": {
     "views": [
      {
       "cell_index": 4
      }
     ]
    },
    "00b9f03a2eae4463a983361e77b9143c": {
     "views": [
      {
       "cell_index": 4
      }
     ]
    },
    "0162fe0c040d4f6582bff55c5918b647": {
     "views": [
      {
       "cell_index": 4
      }
     ]
    },
    "0170389e570c434d8eee6bb3da7281b1": {
     "views": [
      {
       "cell_index": 4
      }
     ]
    },
    "01bd4c70c1154c089b274f8e4edbd84c": {
     "views": [
      {
       "cell_index": 4
      }
     ]
    },
    "026f33f3ff18492abe2bedbca7ed9ad6": {
     "views": [
      {
       "cell_index": 4
      }
     ]
    },
    "039baa48fa704431bd2f17d75ee09972": {
     "views": [
      {
       "cell_index": 4
      }
     ]
    },
    "03dd0468291847f9904820689d3ee2da": {
     "views": [
      {
       "cell_index": 4
      }
     ]
    },
    "0454e5b4cf484f53bede83eccf3c3043": {
     "views": [
      {
       "cell_index": 4
      }
     ]
    },
    "0497cf71a07d43d3b358cbd0a0c920ed": {
     "views": [
      {
       "cell_index": 4
      }
     ]
    },
    "0597b8f578d54663bc2b2f207311dd48": {
     "views": [
      {
       "cell_index": 4
      }
     ]
    },
    "05e5ca9d7f314c70acd098f6cb921dce": {
     "views": [
      {
       "cell_index": 4
      }
     ]
    },
    "06799a355d824524909fdfa0cfd82829": {
     "views": [
      {
       "cell_index": 4
      }
     ]
    },
    "06cfc4d9459a495eaca4bd0271ca22b6": {
     "views": [
      {
       "cell_index": 4
      }
     ]
    },
    "0714e011c9c34ffbb10b0abb5693cf9a": {
     "views": [
      {
       "cell_index": 4
      }
     ]
    },
    "071c1d0c194742f49b033d2d947ea2bf": {
     "views": [
      {
       "cell_index": 4
      }
     ]
    },
    "0735bc7506e84e9783886df87d035b02": {
     "views": [
      {
       "cell_index": 4
      }
     ]
    },
    "075d292130bd42ceb89fb5963819d574": {
     "views": [
      {
       "cell_index": 4
      }
     ]
    },
    "080735ffa083468ba33971857e81348c": {
     "views": [
      {
       "cell_index": 4
      }
     ]
    },
    "08536272449548038434f37ede5b7357": {
     "views": [
      {
       "cell_index": 4
      }
     ]
    },
    "0944c79a17bd404dacb75ad0d641aa2c": {
     "views": [
      {
       "cell_index": 4
      }
     ]
    },
    "0a2a95965f214396903917eb3d94051f": {
     "views": [
      {
       "cell_index": 4
      }
     ]
    },
    "0a3404013ba9497ebe691db3f41a53d4": {
     "views": [
      {
       "cell_index": 4
      }
     ]
    },
    "0ab9db965057434fb5f905c9d036eae9": {
     "views": [
      {
       "cell_index": 4
      }
     ]
    },
    "0ac45e6762ee463eb65258ebcafc43b7": {
     "views": [
      {
       "cell_index": 4
      }
     ]
    },
    "0b74fba09e28479c86139294c0af7d50": {
     "views": [
      {
       "cell_index": 4
      }
     ]
    },
    "0b8261da468844c7bd8902e60f98994e": {
     "views": [
      {
       "cell_index": 4
      }
     ]
    },
    "0cd2f037709a445da2faae834b3ca699": {
     "views": [
      {
       "cell_index": 4
      }
     ]
    },
    "0d0992c2765849778a875e13378e5763": {
     "views": [
      {
       "cell_index": 4
      }
     ]
    },
    "0d585ad060b44a2881c5f2631fdbef06": {
     "views": [
      {
       "cell_index": 4
      }
     ]
    },
    "0ecf116f923d42bdbc22ece0617edd27": {
     "views": [
      {
       "cell_index": 4
      }
     ]
    },
    "0efa1c0ed9a6401d821daf97e7c5e038": {
     "views": [
      {
       "cell_index": 4
      }
     ]
    },
    "0f3af83d8c27411da6e661915ee412e9": {
     "views": [
      {
       "cell_index": 4
      }
     ]
    },
    "10cb7897a69447cb8f2630b7dfd5488e": {
     "views": [
      {
       "cell_index": 4
      }
     ]
    },
    "10f57cfbd5d244b0b2a2f4e3522ffb52": {
     "views": [
      {
       "cell_index": 4
      }
     ]
    },
    "11621186c1e64e44871a20de699240bc": {
     "views": [
      {
       "cell_index": 4
      }
     ]
    },
    "11905dc2ae68481e808ab96115bab1ad": {
     "views": [
      {
       "cell_index": 4
      }
     ]
    },
    "1191af90829b439f8c6783dc3f030422": {
     "views": [
      {
       "cell_index": 4
      }
     ]
    },
    "11d5eb29a1a742f0972c3c714dd3dc46": {
     "views": [
      {
       "cell_index": 4
      }
     ]
    },
    "11e7431f82384a5baa710419ec657ab1": {
     "views": [
      {
       "cell_index": 4
      }
     ]
    },
    "12833d0bdc4645a981bcfcffc2db3647": {
     "views": [
      {
       "cell_index": 4
      }
     ]
    },
    "14737ac570c043d980dc32d0f9df42b2": {
     "views": [
      {
       "cell_index": 4
      }
     ]
    },
    "14807dbe3f384942809c201137d34eec": {
     "views": [
      {
       "cell_index": 4
      }
     ]
    },
    "14d61830d39f40eabdf0c626d9f1a2fc": {
     "views": [
      {
       "cell_index": 4
      }
     ]
    },
    "14e99bdcb81f40d19732b6db4508e999": {
     "views": [
      {
       "cell_index": 4
      }
     ]
    },
    "14fd1120b8af47baa571141fd1845b9a": {
     "views": [
      {
       "cell_index": 4
      }
     ]
    },
    "152971cd2b1f4980a0f52566f2a3d874": {
     "views": [
      {
       "cell_index": 4
      }
     ]
    },
    "1536f1c6fe9545429f84988ab0f665a5": {
     "views": [
      {
       "cell_index": 4
      }
     ]
    },
    "15783ae733c74cf68de0de0eebde471d": {
     "views": [
      {
       "cell_index": 4
      }
     ]
    },
    "15b3adb6d5d24b4c8248b7109380d500": {
     "views": [
      {
       "cell_index": 4
      }
     ]
    },
    "15c12bc4c1f64a99b6bc4812c6c824b5": {
     "views": [
      {
       "cell_index": 4
      }
     ]
    },
    "167944bffbfd4478a8bdc618f7bcd7d1": {
     "views": [
      {
       "cell_index": 4
      }
     ]
    },
    "175ca345f48d412ea73c01a5dbd9447c": {
     "views": [
      {
       "cell_index": 4
      }
     ]
    },
    "175fc698a2ec4a5db814df14c6f12ead": {
     "views": [
      {
       "cell_index": 4
      }
     ]
    },
    "17ede18d194a4f99ac28f185cedc842a": {
     "views": [
      {
       "cell_index": 4
      }
     ]
    },
    "18d4df5907e0453b89c6ca9f5ae2027b": {
     "views": [
      {
       "cell_index": 4
      }
     ]
    },
    "18dd3f3fd06c40219dcd5c12047a8f81": {
     "views": [
      {
       "cell_index": 4
      }
     ]
    },
    "190c1e9926cd4dd5a63ae5f0da9fbde0": {
     "views": [
      {
       "cell_index": 4
      }
     ]
    },
    "1a2360f5583a49d4b079a52aba1bc71c": {
     "views": [
      {
       "cell_index": 4
      }
     ]
    },
    "1a6308c42d4d47cf8e055698e773f714": {
     "views": [
      {
       "cell_index": 4
      }
     ]
    },
    "1ab32366cfa54ff48e89836a2a177094": {
     "views": [
      {
       "cell_index": 4
      }
     ]
    },
    "1ade59e289f14dfda50c52925c3d2a22": {
     "views": [
      {
       "cell_index": 4
      }
     ]
    },
    "1b0498ba35754bf4b4b9534b364e033d": {
     "views": [
      {
       "cell_index": 4
      }
     ]
    },
    "1b1e68eab7c446d8a21f57d0f7f8b28b": {
     "views": [
      {
       "cell_index": 4
      }
     ]
    },
    "1b26dc159dd546afad9e562fffecabfe": {
     "views": [
      {
       "cell_index": 4
      }
     ]
    },
    "1b7af860947240ba8736328017c19e79": {
     "views": [
      {
       "cell_index": 4
      }
     ]
    },
    "1be917fb239a493b9aafe9e1fd9d8a0c": {
     "views": [
      {
       "cell_index": 4
      }
     ]
    },
    "1c406ab75c524245b04ce120f01b0160": {
     "views": [
      {
       "cell_index": 4
      }
     ]
    },
    "1c4f77bd2ab54a4e9348a4a85e5c3893": {
     "views": [
      {
       "cell_index": 4
      }
     ]
    },
    "1c9ab48ef148428fb231b3a12ff96366": {
     "views": [
      {
       "cell_index": 4
      }
     ]
    },
    "1cb3a0bb69f2449b838530d5fb5b85e8": {
     "views": [
      {
       "cell_index": 4
      }
     ]
    },
    "1cbe2d9794634142b469b7f4086e73f9": {
     "views": [
      {
       "cell_index": 4
      }
     ]
    },
    "1d9ebb0ec57f4a51b762c662ed1386f3": {
     "views": [
      {
       "cell_index": 4
      }
     ]
    },
    "1e2e13c161dd47d0993a2ae06a71c1fe": {
     "views": [
      {
       "cell_index": 4
      }
     ]
    },
    "1e320b5097b047fd8ba915cd6f1f652d": {
     "views": [
      {
       "cell_index": 4
      }
     ]
    },
    "1e6da6591d4147c0838a50f1dc6fd6b2": {
     "views": [
      {
       "cell_index": 4
      }
     ]
    },
    "1f1981b2a608488b947b90895e420339": {
     "views": [
      {
       "cell_index": 4
      }
     ]
    },
    "1f4e27a6c14d402f83d5d6c5d46488c1": {
     "views": [
      {
       "cell_index": 4
      }
     ]
    },
    "1f8db1150f4e4894828dbfb50789c8df": {
     "views": [
      {
       "cell_index": 4
      }
     ]
    },
    "1f9620b156f54837b4c3d0095e88b319": {
     "views": [
      {
       "cell_index": 4
      }
     ]
    },
    "1fa274fd6022425d94eaccbfec485c2c": {
     "views": [
      {
       "cell_index": 4
      }
     ]
    },
    "1fc256f49bff4950a9ba2b401282f410": {
     "views": [
      {
       "cell_index": 4
      }
     ]
    },
    "2016ff940e854da7ae8d727a6b44adcc": {
     "views": [
      {
       "cell_index": 4
      }
     ]
    },
    "206e6e96f5874c999248a20a7ade951f": {
     "views": [
      {
       "cell_index": 4
      }
     ]
    },
    "20cecc7f896745d485527bf6df48eb51": {
     "views": [
      {
       "cell_index": 4
      }
     ]
    },
    "20ec9f0964c04b8fa2716cfcecc1e0aa": {
     "views": [
      {
       "cell_index": 4
      }
     ]
    },
    "217204a24e3440a697d423d1fef50434": {
     "views": [
      {
       "cell_index": 4
      }
     ]
    },
    "2177fea2910d407dafd3e9659f04fed3": {
     "views": [
      {
       "cell_index": 4
      }
     ]
    },
    "22bce3fc337546cdb3a2e4f4f85736ac": {
     "views": [
      {
       "cell_index": 4
      }
     ]
    },
    "22ef2b9a826a4ebfbc6cdb551a0abecf": {
     "views": [
      {
       "cell_index": 4
      }
     ]
    },
    "24c4ed6fc8f44b2d829cab1c69092bc5": {
     "views": [
      {
       "cell_index": 4
      }
     ]
    },
    "260a19351594402c9857425b2d064bf7": {
     "views": [
      {
       "cell_index": 4
      }
     ]
    },
    "26a9945a555243afa72c2df124af50d1": {
     "views": [
      {
       "cell_index": 4
      }
     ]
    },
    "26f1ccc3f28a4188a1a2771f112d9c9a": {
     "views": [
      {
       "cell_index": 4
      }
     ]
    },
    "26f64c4dd9f8469694bbdc2843bcee1e": {
     "views": [
      {
       "cell_index": 4
      }
     ]
    },
    "272d551370fb4741aec7b224e870cdc8": {
     "views": [
      {
       "cell_index": 4
      }
     ]
    },
    "27d375500bef4e0490bf0a1dda054a09": {
     "views": [
      {
       "cell_index": 4
      }
     ]
    },
    "28443c676f6c430ea28be499212ac28d": {
     "views": [
      {
       "cell_index": 4
      }
     ]
    },
    "2943701d782e4e48824277ab66757dd2": {
     "views": [
      {
       "cell_index": 4
      }
     ]
    },
    "2998ac83c0a4437d936e09661b1fcb31": {
     "views": [
      {
       "cell_index": 4
      }
     ]
    },
    "2a650aaa650b4985a02c96ce73405bce": {
     "views": [
      {
       "cell_index": 4
      }
     ]
    },
    "2b045717b05b4e7e9a0ce93feb2969d4": {
     "views": [
      {
       "cell_index": 4
      }
     ]
    },
    "2ba96093c77a431d9b351d5453baf051": {
     "views": [
      {
       "cell_index": 4
      }
     ]
    },
    "2bb0d99aba60465bbdc35605dd152cb0": {
     "views": [
      {
       "cell_index": 4
      }
     ]
    },
    "2c1a2556e23e40f4b6967d893424577d": {
     "views": [
      {
       "cell_index": 4
      }
     ]
    },
    "2c67db208ccb49a3bb1e4b6190aa06ac": {
     "views": [
      {
       "cell_index": 4
      }
     ]
    },
    "2db329e383134b649d8afdd4e2da0932": {
     "views": [
      {
       "cell_index": 4
      }
     ]
    },
    "2dfc92d8c2af44ee8fcadc10c3689cea": {
     "views": [
      {
       "cell_index": 4
      }
     ]
    },
    "2e019520c80f41b093da11a240c2fa0a": {
     "views": [
      {
       "cell_index": 4
      }
     ]
    },
    "2e4be38e86c048eb94ec3a984e1195f8": {
     "views": [
      {
       "cell_index": 4
      }
     ]
    },
    "308e9a3c862346fb8907f3cdae2bb2e4": {
     "views": [
      {
       "cell_index": 4
      }
     ]
    },
    "31c3055348094f32936b8150bebb497a": {
     "views": [
      {
       "cell_index": 4
      }
     ]
    },
    "321de400ae92424891fb9ed8ad1a05ef": {
     "views": [
      {
       "cell_index": 4
      }
     ]
    },
    "327354ab77904faabbe4e91d8f86c53b": {
     "views": [
      {
       "cell_index": 4
      }
     ]
    },
    "32e7c387049f4261be2434eb19c1c9b7": {
     "views": [
      {
       "cell_index": 4
      }
     ]
    },
    "3358dbc410024d0f87cae8eb993301b9": {
     "views": [
      {
       "cell_index": 4
      }
     ]
    },
    "35742d12e72847108522485a60fb0451": {
     "views": [
      {
       "cell_index": 4
      }
     ]
    },
    "358df99558a243c9bc0e016fcfa182be": {
     "views": [
      {
       "cell_index": 4
      }
     ]
    },
    "36325196ff75435e85ad4e8671bce8f7": {
     "views": [
      {
       "cell_index": 4
      }
     ]
    },
    "3668087d33b047c2b4000ed0e3f57477": {
     "views": [
      {
       "cell_index": 4
      }
     ]
    },
    "37250d1499cd42adab6c2e4b5b82ed6e": {
     "views": [
      {
       "cell_index": 4
      }
     ]
    },
    "3818863b7dc44426b813c946a30aa715": {
     "views": [
      {
       "cell_index": 4
      }
     ]
    },
    "382fee755cdb4d35a9999887348d7096": {
     "views": [
      {
       "cell_index": 4
      }
     ]
    },
    "3838fca422d443e4911efb7d638da14b": {
     "views": [
      {
       "cell_index": 4
      }
     ]
    },
    "389c4d1de2e347b7aea7e43013b1564b": {
     "views": [
      {
       "cell_index": 4
      }
     ]
    },
    "38f4231270e247df9ab3a197102ae5fa": {
     "views": [
      {
       "cell_index": 4
      }
     ]
    },
    "38fe9f29d2884e87a99fd9ff061ae188": {
     "views": [
      {
       "cell_index": 4
      }
     ]
    },
    "39658bb7e6c844e79080c4a1f98b8abd": {
     "views": [
      {
       "cell_index": 4
      }
     ]
    },
    "3aad901a07614587a402e8242271745c": {
     "views": [
      {
       "cell_index": 4
      }
     ]
    },
    "3ae2808e5ae840cf918504ddec87af46": {
     "views": [
      {
       "cell_index": 4
      }
     ]
    },
    "3aec0efa5d5d4ea9adb52aea47a4e604": {
     "views": [
      {
       "cell_index": 4
      }
     ]
    },
    "3bcb331d66e04fa1b4357415d22bf2ca": {
     "views": [
      {
       "cell_index": 4
      }
     ]
    },
    "3c0cba8f6d4a4869add6efd48d2c1f15": {
     "views": [
      {
       "cell_index": 4
      }
     ]
    },
    "3c10283948384cbfaa45fc987adfdf3c": {
     "views": [
      {
       "cell_index": 4
      }
     ]
    },
    "3c238a529b7b4a799817c9721dc3318c": {
     "views": [
      {
       "cell_index": 4
      }
     ]
    },
    "3dfacabfeb6d4b5fba7e4a0d0c0694d7": {
     "views": [
      {
       "cell_index": 4
      }
     ]
    },
    "3e6a001180f346e0b97a1bd5ef80e029": {
     "views": [
      {
       "cell_index": 4
      }
     ]
    },
    "3e72e7bf9298468887ff3d457acd53a0": {
     "views": [
      {
       "cell_index": 4
      }
     ]
    },
    "3fbdcca111c54301887658a5e0dc5456": {
     "views": [
      {
       "cell_index": 4
      }
     ]
    },
    "405963d54cdd44d2875a8c2963bd8f75": {
     "views": [
      {
       "cell_index": 4
      }
     ]
    },
    "40cb8c84279e46ce99344923f95f384a": {
     "views": [
      {
       "cell_index": 4
      }
     ]
    },
    "4132d9f4411d4469aa518a4fe7fb376d": {
     "views": [
      {
       "cell_index": 4
      }
     ]
    },
    "4178ed22740d4720940ad4d85075cdcb": {
     "views": [
      {
       "cell_index": 4
      }
     ]
    },
    "41c2db37b44c4086b36e981e7e30ae2e": {
     "views": [
      {
       "cell_index": 4
      }
     ]
    },
    "424dab28610a4ddfa7a538d5fed393bd": {
     "views": [
      {
       "cell_index": 4
      }
     ]
    },
    "42f407da614f4b97956057d0a02da813": {
     "views": [
      {
       "cell_index": 4
      }
     ]
    },
    "42fa6111fb5944569220707d147a69e2": {
     "views": [
      {
       "cell_index": 4
      }
     ]
    },
    "430e35c064bf4054b3329b6b5e9c1458": {
     "views": [
      {
       "cell_index": 4
      }
     ]
    },
    "4375932431124bf7a92823fa576e469a": {
     "views": [
      {
       "cell_index": 4
      }
     ]
    },
    "43dbd5a0912940a694524ffbab5cb6e6": {
     "views": [
      {
       "cell_index": 4
      }
     ]
    },
    "44723a0f16064dc698f9d0764a7b629a": {
     "views": [
      {
       "cell_index": 4
      }
     ]
    },
    "44bc0502a50e41f88636f7b72dd39f5f": {
     "views": [
      {
       "cell_index": 4
      }
     ]
    },
    "44ef5dc1a671488aaf347a613528065a": {
     "views": [
      {
       "cell_index": 4
      }
     ]
    },
    "47063aa899754acf93ff2e2f27f25dd9": {
     "views": [
      {
       "cell_index": 4
      }
     ]
    },
    "470c06af51504411807e4ff8997dd9f2": {
     "views": [
      {
       "cell_index": 4
      }
     ]
    },
    "4738bf580c584ef48ff8ab7ee7eca7b0": {
     "views": [
      {
       "cell_index": 4
      }
     ]
    },
    "4777fc1ede85427ca457d123355ceab5": {
     "views": [
      {
       "cell_index": 4
      }
     ]
    },
    "47a43191217d47b19609aa7e60dca8b3": {
     "views": [
      {
       "cell_index": 4
      }
     ]
    },
    "47d1eac1b77645c3b0a19a67ffa8dd28": {
     "views": [
      {
       "cell_index": 4
      }
     ]
    },
    "48808ee3f0f84fb79bc04213b5c072d2": {
     "views": [
      {
       "cell_index": 4
      }
     ]
    },
    "490acdcb174946848c85ce3dd65051ac": {
     "views": [
      {
       "cell_index": 4
      }
     ]
    },
    "4a9d9c1d3cfd48fc96f7fffdf2e83c83": {
     "views": [
      {
       "cell_index": 4
      }
     ]
    },
    "4be40e4a4e4a441ca5bf6935bd7c2960": {
     "views": [
      {
       "cell_index": 4
      }
     ]
    },
    "4bf04d73677243eab36f169ac1ac8861": {
     "views": [
      {
       "cell_index": 4
      }
     ]
    },
    "4c7929fddd9a4dd180a7510761375e38": {
     "views": [
      {
       "cell_index": 4
      }
     ]
    },
    "4d27a6cefedb4e3486ffd8bd09249749": {
     "views": [
      {
       "cell_index": 4
      }
     ]
    },
    "4dccd40e4a2d46b596e9af1376497106": {
     "views": [
      {
       "cell_index": 4
      }
     ]
    },
    "4e8b4a9eee4b42a3b57d131b5e68f08b": {
     "views": [
      {
       "cell_index": 4
      }
     ]
    },
    "4eb2d8a6e642430bae544c126e370223": {
     "views": [
      {
       "cell_index": 4
      }
     ]
    },
    "4f43ee2cde5343808f079eae3132b2ec": {
     "views": [
      {
       "cell_index": 4
      }
     ]
    },
    "508af102d6734a17b0e7dacac11a40b1": {
     "views": [
      {
       "cell_index": 4
      }
     ]
    },
    "50a19257ab1e450b9a4578ff0c2282a8": {
     "views": [
      {
       "cell_index": 4
      }
     ]
    },
    "50ff9c82141b44c481e30659e1d82a23": {
     "views": [
      {
       "cell_index": 4
      }
     ]
    },
    "51008dc65728444cbc3546d0d3f08544": {
     "views": [
      {
       "cell_index": 4
      }
     ]
    },
    "5140465470a44839870b0ec131266230": {
     "views": [
      {
       "cell_index": 4
      }
     ]
    },
    "51509ea6a8004f5ab31d0d6d78d457a8": {
     "views": [
      {
       "cell_index": 4
      }
     ]
    },
    "51b37ea032704ca48859453b340593ea": {
     "views": [
      {
       "cell_index": 4
      }
     ]
    },
    "52039c98d9674ece9ccecc6386d456c6": {
     "views": [
      {
       "cell_index": 4
      }
     ]
    },
    "522fa02e8df64e619ab995c70b272256": {
     "views": [
      {
       "cell_index": 4
      }
     ]
    },
    "52bd44304ceb403ba22f9cbd5ca7e3ca": {
     "views": [
      {
       "cell_index": 4
      }
     ]
    },
    "52ee0a83990a479ebf71fe6b224460b4": {
     "views": [
      {
       "cell_index": 4
      }
     ]
    },
    "538cf4bf9941447fa582d23191738342": {
     "views": [
      {
       "cell_index": 4
      }
     ]
    },
    "540bb792d0b146b7ac5ee8f00821ec26": {
     "views": [
      {
       "cell_index": 4
      }
     ]
    },
    "54fe09af393a4653a5231735920ffacb": {
     "views": [
      {
       "cell_index": 4
      }
     ]
    },
    "550b51cb356e4ae4a1365549b3db13e5": {
     "views": [
      {
       "cell_index": 4
      }
     ]
    },
    "55dc2032c6fd47d1ba5896944ffc5ae1": {
     "views": [
      {
       "cell_index": 4
      }
     ]
    },
    "55e94adbb0214446a2dd5ebdddc0f30a": {
     "views": [
      {
       "cell_index": 4
      }
     ]
    },
    "560e1d146c3d41e9a156f105a147d391": {
     "views": [
      {
       "cell_index": 4
      }
     ]
    },
    "561bdfb66baf421d816d77dcfc0a9102": {
     "views": [
      {
       "cell_index": 4
      }
     ]
    },
    "56260b080eb446d1826ca42ad822b1dc": {
     "views": [
      {
       "cell_index": 4
      }
     ]
    },
    "564512ee32064d8487c6a219877ed166": {
     "views": [
      {
       "cell_index": 4
      }
     ]
    },
    "5680013d28114abcbd01a56fdf51c372": {
     "views": [
      {
       "cell_index": 4
      }
     ]
    },
    "573c802a843e4b79a3a147828bcf223f": {
     "views": [
      {
       "cell_index": 4
      }
     ]
    },
    "5841599b58c04152bc116632c11192d6": {
     "views": [
      {
       "cell_index": 4
      }
     ]
    },
    "5853b9ba46094f3d903a45bd322d9944": {
     "views": [
      {
       "cell_index": 4
      }
     ]
    },
    "58e1df02b95c4bb1b4b27c49e782e33d": {
     "views": [
      {
       "cell_index": 4
      }
     ]
    },
    "5942aaa8ed9749ce88a6a8797fea7c02": {
     "views": [
      {
       "cell_index": 4
      }
     ]
    },
    "597d44cff99b4c1bb96be2388b2d136a": {
     "views": [
      {
       "cell_index": 4
      }
     ]
    },
    "598cc49feabd405da77cea03fe0ee065": {
     "views": [
      {
       "cell_index": 4
      }
     ]
    },
    "59f4bfd6de9e4ea89c5d85499fa2ad47": {
     "views": [
      {
       "cell_index": 4
      }
     ]
    },
    "5a3e126b4eeb4f3abf67488eac90b410": {
     "views": [
      {
       "cell_index": 4
      }
     ]
    },
    "5bc6db4c8c424ea39e6272e24f180327": {
     "views": [
      {
       "cell_index": 4
      }
     ]
    },
    "5beb5d78ac5c40baaa51fac25b17f925": {
     "views": [
      {
       "cell_index": 4
      }
     ]
    },
    "5c077c04eff74073a1842647a04033fb": {
     "views": [
      {
       "cell_index": 4
      }
     ]
    },
    "5c2ec77e54d5427396fa00dfb87492f9": {
     "views": [
      {
       "cell_index": 4
      }
     ]
    },
    "5d8e46f90083427f85487d372082d4e3": {
     "views": [
      {
       "cell_index": 4
      }
     ]
    },
    "5daa5ac952264440817284ca17400979": {
     "views": [
      {
       "cell_index": 4
      }
     ]
    },
    "5dbdf70b5bc44ae99cb733a338f79346": {
     "views": [
      {
       "cell_index": 4
      }
     ]
    },
    "5e180a0b22be4536a0b078d8cbc3016a": {
     "views": [
      {
       "cell_index": 4
      }
     ]
    },
    "5e6b1b9969e84267ae4fadf13f83d848": {
     "views": [
      {
       "cell_index": 4
      }
     ]
    },
    "5ec5fc84b9da4e08879e49fa9a259b6a": {
     "views": [
      {
       "cell_index": 4
      }
     ]
    },
    "5fab2a6266f2479a983b92243cfddca5": {
     "views": [
      {
       "cell_index": 4
      }
     ]
    },
    "60d29f6444c643a98fbb919a9a9150ce": {
     "views": [
      {
       "cell_index": 4
      }
     ]
    },
    "610bffdfcf194f21834179ed7ad53f06": {
     "views": [
      {
       "cell_index": 4
      }
     ]
    },
    "614bc943143941a2a05fbd9fc1441239": {
     "views": [
      {
       "cell_index": 4
      }
     ]
    },
    "6174df3411c34949b540a4581aa0fc49": {
     "views": [
      {
       "cell_index": 4
      }
     ]
    },
    "61ab649cebd147baa8dcda7bf56f7005": {
     "views": [
      {
       "cell_index": 4
      }
     ]
    },
    "62f385d0d05845da9605bd713284dcab": {
     "views": [
      {
       "cell_index": 4
      }
     ]
    },
    "64402ca353e541509d6964b0c8cddd7c": {
     "views": [
      {
       "cell_index": 4
      }
     ]
    },
    "64afec725a174374ab92f8f6315b9ceb": {
     "views": [
      {
       "cell_index": 4
      }
     ]
    },
    "655f945d282c43e39c3b99f7212f5ac4": {
     "views": [
      {
       "cell_index": 4
      }
     ]
    },
    "65f6789c92424b48a1e86d858f7793d3": {
     "views": [
      {
       "cell_index": 4
      }
     ]
    },
    "6751ebf48a4f437f8be534730117951d": {
     "views": [
      {
       "cell_index": 4
      }
     ]
    },
    "68e54573018a46dba713ebff53ddd748": {
     "views": [
      {
       "cell_index": 4
      }
     ]
    },
    "68f6fb51ed7c4dd4943fa0867194cf06": {
     "views": [
      {
       "cell_index": 4
      }
     ]
    },
    "69175b26a08d44c3b1c634c8ffaf80d7": {
     "views": [
      {
       "cell_index": 4
      }
     ]
    },
    "6a8a8ed926864b09b37c6533ac2dc98f": {
     "views": [
      {
       "cell_index": 4
      }
     ]
    },
    "6ba7672ea38e442d9e5781d45aeff716": {
     "views": [
      {
       "cell_index": 4
      }
     ]
    },
    "6c11508ad23a461b962c7e33a2b1117e": {
     "views": [
      {
       "cell_index": 4
      }
     ]
    },
    "6cd14962e4e94cd5a85c4c90a16bc3c0": {
     "views": [
      {
       "cell_index": 4
      }
     ]
    },
    "6d44c8c281be45a7a6e061abcde4a1df": {
     "views": [
      {
       "cell_index": 4
      }
     ]
    },
    "6ea580f2fbae4b5cbf27fe7e6d407718": {
     "views": [
      {
       "cell_index": 4
      }
     ]
    },
    "6f7c189540184f70bc4acee01426545b": {
     "views": [
      {
       "cell_index": 4
      }
     ]
    },
    "703bcb6dbc3948d086959f7c3ca641a8": {
     "views": [
      {
       "cell_index": 4
      }
     ]
    },
    "7050f5743aed400fb23879f4463f7f8a": {
     "views": [
      {
       "cell_index": 4
      }
     ]
    },
    "70d414994906429693ac9128bfd997c6": {
     "views": [
      {
       "cell_index": 4
      }
     ]
    },
    "71157235afa54afea399ca3d3568d0f8": {
     "views": [
      {
       "cell_index": 4
      }
     ]
    },
    "7172388c50284857a511c963effdd819": {
     "views": [
      {
       "cell_index": 4
      }
     ]
    },
    "72a5ce678e744fb9908e8145697fe8ed": {
     "views": [
      {
       "cell_index": 4
      }
     ]
    },
    "73ef49ecd229440ea58bf5d40cd2beb6": {
     "views": [
      {
       "cell_index": 4
      }
     ]
    },
    "744126ce0d014409b161e3ea58f7e533": {
     "views": [
      {
       "cell_index": 4
      }
     ]
    },
    "74ab80aca9ea4bb48a898932ca4ca893": {
     "views": [
      {
       "cell_index": 4
      }
     ]
    },
    "75e8c6fe18094979bbaf3f3a6e4c739d": {
     "views": [
      {
       "cell_index": 4
      }
     ]
    },
    "76544d72815448778652fb9bd213a078": {
     "views": [
      {
       "cell_index": 4
      }
     ]
    },
    "77432f966d764ba29e681838bd0ee9db": {
     "views": [
      {
       "cell_index": 4
      }
     ]
    },
    "77481c6018a547e3b11be19c11952c8f": {
     "views": [
      {
       "cell_index": 4
      }
     ]
    },
    "78424d48f67e4350b27d992be424751d": {
     "views": [
      {
       "cell_index": 4
      }
     ]
    },
    "788847a1ebf641d9a25769ca54cb322c": {
     "views": [
      {
       "cell_index": 4
      }
     ]
    },
    "7988ae6e12e84f86b68f7f2586197f3a": {
     "views": [
      {
       "cell_index": 4
      }
     ]
    },
    "79b6ecea105343539026cb813797790d": {
     "views": [
      {
       "cell_index": 4
      }
     ]
    },
    "79bb4b6bb7e247c4be6e6b7736a3ae9e": {
     "views": [
      {
       "cell_index": 4
      }
     ]
    },
    "7a72402717df424a82ef7435cdea1094": {
     "views": [
      {
       "cell_index": 4
      }
     ]
    },
    "7b78628019e84517aa4c9c3d6dcd80c8": {
     "views": [
      {
       "cell_index": 4
      }
     ]
    },
    "7cc8c3d42b494e15884ba176471079a5": {
     "views": [
      {
       "cell_index": 4
      }
     ]
    },
    "7ce24c1905df40a3a6b43e0f0e784a1f": {
     "views": [
      {
       "cell_index": 4
      }
     ]
    },
    "7dd6413643004e03a723e5354f4246be": {
     "views": [
      {
       "cell_index": 4
      }
     ]
    },
    "7e3994d008e34dbe98816645d06bd109": {
     "views": [
      {
       "cell_index": 4
      }
     ]
    },
    "7fd8f85c0c39428e802a679f530df73c": {
     "views": [
      {
       "cell_index": 4
      }
     ]
    },
    "800a8e05e4e742daaeb0953559d29626": {
     "views": [
      {
       "cell_index": 4
      }
     ]
    },
    "80beb77346b74c96812337e8872d387a": {
     "views": [
      {
       "cell_index": 4
      }
     ]
    },
    "8105b4aa40ac4f7d9a595a48ad792b24": {
     "views": [
      {
       "cell_index": 4
      }
     ]
    },
    "81f33ef96cee4110b9e6b43483fcf606": {
     "views": [
      {
       "cell_index": 4
      }
     ]
    },
    "83037d1d581a40c09dc1960fb0321082": {
     "views": [
      {
       "cell_index": 4
      }
     ]
    },
    "83258fcfb02849449ed8f8b060990596": {
     "views": [
      {
       "cell_index": 4
      }
     ]
    },
    "84960ae37cc74a26a7b92b3156c91015": {
     "views": [
      {
       "cell_index": 4
      }
     ]
    },
    "84985ca65bb9463796d8fc4ec1c236f7": {
     "views": [
      {
       "cell_index": 4
      }
     ]
    },
    "84991d7dced44ffd9fff39bb18c9a91c": {
     "views": [
      {
       "cell_index": 4
      }
     ]
    },
    "857d9df9b47f4ae2b318f315c30701c5": {
     "views": [
      {
       "cell_index": 4
      }
     ]
    },
    "86b71995a244481d875487cc7f423401": {
     "views": [
      {
       "cell_index": 4
      }
     ]
    },
    "876780be4943434c86cc57cf9046cfa4": {
     "views": [
      {
       "cell_index": 4
      }
     ]
    },
    "888d2f58fb3f410ca8e2cb4552b53494": {
     "views": [
      {
       "cell_index": 4
      }
     ]
    },
    "88b61cbe96f04bfeb1329f612b493325": {
     "views": [
      {
       "cell_index": 4
      }
     ]
    },
    "894a2b2742f44473966030288718462a": {
     "views": [
      {
       "cell_index": 4
      }
     ]
    },
    "8973904148ad4ebe850db16e1a6d62f0": {
     "views": [
      {
       "cell_index": 4
      }
     ]
    },
    "89a2d21f84444acc8d8635b4ec08abde": {
     "views": [
      {
       "cell_index": 4
      }
     ]
    },
    "89d69bab73714c37b7dc76383b250382": {
     "views": [
      {
       "cell_index": 4
      }
     ]
    },
    "8a86f718184f4d45a580b4ebef315418": {
     "views": [
      {
       "cell_index": 4
      }
     ]
    },
    "8aa81aec78a84170b439482e7819fef2": {
     "views": [
      {
       "cell_index": 4
      }
     ]
    },
    "8b56cf4e07e64905a1cf31052a364d3c": {
     "views": [
      {
       "cell_index": 4
      }
     ]
    },
    "8b9dec94e2c04414bc4226905ddeefa5": {
     "views": [
      {
       "cell_index": 4
      }
     ]
    },
    "8be9ceb31e18499a90c87d68535f5e28": {
     "views": [
      {
       "cell_index": 4
      }
     ]
    },
    "8c14799f7d0a44908497c8fb60253f04": {
     "views": [
      {
       "cell_index": 4
      }
     ]
    },
    "8c4308c56dc54225aee969d4d7cf546d": {
     "views": [
      {
       "cell_index": 4
      }
     ]
    },
    "8c5101346fd143938f9d1de3f486b979": {
     "views": [
      {
       "cell_index": 4
      }
     ]
    },
    "8d00ac99142541ee9e0f867bbdd3540f": {
     "views": [
      {
       "cell_index": 4
      }
     ]
    },
    "8d21707cad1a4f469d84adf26e1244e8": {
     "views": [
      {
       "cell_index": 4
      }
     ]
    },
    "8df5591b66fd4f08885ee2a1015726bb": {
     "views": [
      {
       "cell_index": 4
      }
     ]
    },
    "8e8b90722e724facb47094b1219d23bb": {
     "views": [
      {
       "cell_index": 4
      }
     ]
    },
    "8f22f17ec6da4e188d010686fbdeb9b0": {
     "views": [
      {
       "cell_index": 4
      }
     ]
    },
    "904d6ffd287f4ed498afed8b699fa4c0": {
     "views": [
      {
       "cell_index": 4
      }
     ]
    },
    "9084db1dd173463b84db3858dc738b81": {
     "views": [
      {
       "cell_index": 4
      }
     ]
    },
    "918b43b38dce45b289ab42eacbd7359b": {
     "views": [
      {
       "cell_index": 4
      }
     ]
    },
    "91ad0f3b78df4cfdaf1e2e89e47d950d": {
     "views": [
      {
       "cell_index": 4
      }
     ]
    },
    "9330300d7c174511b0dfec43d97b10f8": {
     "views": [
      {
       "cell_index": 4
      }
     ]
    },
    "939f92202bb04fe48c66edb2d91233bb": {
     "views": [
      {
       "cell_index": 4
      }
     ]
    },
    "947a9efce096475298d3f5510c5546d6": {
     "views": [
      {
       "cell_index": 4
      }
     ]
    },
    "94b54ed7c2b14348b0d2e92c406c3a60": {
     "views": [
      {
       "cell_index": 4
      }
     ]
    },
    "94fa9a07ed3746b09b473524f220780a": {
     "views": [
      {
       "cell_index": 4
      }
     ]
    },
    "95170752f9564f9ba5c2e5dd5aa9ce46": {
     "views": [
      {
       "cell_index": 4
      }
     ]
    },
    "9620fd40a2a64f9caa385df4eeae59fd": {
     "views": [
      {
       "cell_index": 4
      }
     ]
    },
    "96d8fe01bc7d420f8aab38c9ca7fb424": {
     "views": [
      {
       "cell_index": 4
      }
     ]
    },
    "96ec315dd77d40fe90c0b270e0c2368d": {
     "views": [
      {
       "cell_index": 4
      }
     ]
    },
    "97fb23532cc5412fafd4004b6fdc93ab": {
     "views": [
      {
       "cell_index": 4
      }
     ]
    },
    "983680be8566407c974adcf61308b009": {
     "views": [
      {
       "cell_index": 4
      }
     ]
    },
    "98ab1633b19c41c49d40dbbb24b62255": {
     "views": [
      {
       "cell_index": 4
      }
     ]
    },
    "99897e051a3d4280b252803bbcd149d1": {
     "views": [
      {
       "cell_index": 4
      }
     ]
    },
    "999b89b176bd4eeb8b84387a55d4ab07": {
     "views": [
      {
       "cell_index": 4
      }
     ]
    },
    "9aac56dca2b34bc0bd87022b0427c901": {
     "views": [
      {
       "cell_index": 4
      }
     ]
    },
    "9b1d91cba70d4c989fb989bcb50f7221": {
     "views": [
      {
       "cell_index": 4
      }
     ]
    },
    "9b882b445df84952b64c8c6b57873151": {
     "views": [
      {
       "cell_index": 4
      }
     ]
    },
    "9c195b40e80e4253a70bdb5fb2edebc9": {
     "views": [
      {
       "cell_index": 4
      }
     ]
    },
    "9c780b6a588e4031ad2d27da49c7dd72": {
     "views": [
      {
       "cell_index": 4
      }
     ]
    },
    "9df155d2b44c4ec7bc5c0392329fe268": {
     "views": [
      {
       "cell_index": 4
      }
     ]
    },
    "9e154d58e9434a1ead07557671334803": {
     "views": [
      {
       "cell_index": 4
      }
     ]
    },
    "9fb4aad15e174c5dbae4b996c1012f46": {
     "views": [
      {
       "cell_index": 4
      }
     ]
    },
    "9fc116b789be4cdfb911c471d7baf718": {
     "views": [
      {
       "cell_index": 4
      }
     ]
    },
    "9ff08f047ee94e8ea49c0eb15deeee9e": {
     "views": [
      {
       "cell_index": 4
      }
     ]
    },
    "a0165fac746c491e8b13364649fcfd98": {
     "views": [
      {
       "cell_index": 4
      }
     ]
    },
    "a0ae41aa2ad44597bcf5b7685e084cf7": {
     "views": [
      {
       "cell_index": 4
      }
     ]
    },
    "a14681c0f1a84ba78e494af3125c8c51": {
     "views": [
      {
       "cell_index": 4
      }
     ]
    },
    "a16304f35e004e20979a72c671396d73": {
     "views": [
      {
       "cell_index": 4
      }
     ]
    },
    "a1b65edea13a494a998608ff7cb679aa": {
     "views": [
      {
       "cell_index": 4
      }
     ]
    },
    "a21cd6496a4b4bd5903cd110ef4847d6": {
     "views": [
      {
       "cell_index": 4
      }
     ]
    },
    "a238d7bce68a45df82abba765258ed46": {
     "views": [
      {
       "cell_index": 4
      }
     ]
    },
    "a3396db2bd9f4a01b7b9b6b6b2c40089": {
     "views": [
      {
       "cell_index": 4
      }
     ]
    },
    "a34a4b3ad1e943fabca6a04237619aa9": {
     "views": [
      {
       "cell_index": 4
      }
     ]
    },
    "a42e36e5df35496e918e7d5a5933f3a8": {
     "views": [
      {
       "cell_index": 4
      }
     ]
    },
    "a4f7f0284af84a068ba26843cf9df67b": {
     "views": [
      {
       "cell_index": 4
      }
     ]
    },
    "a595bffd93f740609f1cbcc16c1cecbb": {
     "views": [
      {
       "cell_index": 4
      }
     ]
    },
    "a7d0acfad6714c2992feea40102ffeca": {
     "views": [
      {
       "cell_index": 4
      }
     ]
    },
    "a8f981ff90f44b6cb6dc91a80935b7f1": {
     "views": [
      {
       "cell_index": 4
      }
     ]
    },
    "a8feb35e83194ce68ef63a7e86e9a702": {
     "views": [
      {
       "cell_index": 4
      }
     ]
    },
    "a925f0ccab094f82b8477dae4ff6c167": {
     "views": [
      {
       "cell_index": 4
      }
     ]
    },
    "a9ee2bc572a149f48bef1472276fd256": {
     "views": [
      {
       "cell_index": 4
      }
     ]
    },
    "ab871631bba14a62af0fa373694ecb8c": {
     "views": [
      {
       "cell_index": 4
      }
     ]
    },
    "abfeefd2e8b64a0f9129d482dd8e493f": {
     "views": [
      {
       "cell_index": 4
      }
     ]
    },
    "ac29581247b34b4a90141a74ad9a6d77": {
     "views": [
      {
       "cell_index": 4
      }
     ]
    },
    "ac4ff6480ee144aabe957c067a790fcc": {
     "views": [
      {
       "cell_index": 4
      }
     ]
    },
    "ac60a07879c44267aee47145f1712e1f": {
     "views": [
      {
       "cell_index": 4
      }
     ]
    },
    "ad82cdbe5cfe44ce80bb458c7891e198": {
     "views": [
      {
       "cell_index": 4
      }
     ]
    },
    "adc6246cb4a44c21a608366c57ef22f7": {
     "views": [
      {
       "cell_index": 4
      }
     ]
    },
    "ae57427f32bb48c8ab0fa91522cd3ad9": {
     "views": [
      {
       "cell_index": 4
      }
     ]
    },
    "aec424133bd045239ea7c06debb68321": {
     "views": [
      {
       "cell_index": 4
      }
     ]
    },
    "af7b3386509541d98ba69b11cb54b564": {
     "views": [
      {
       "cell_index": 4
      }
     ]
    },
    "b05870d2657f4b82ac5553e118285133": {
     "views": [
      {
       "cell_index": 4
      }
     ]
    },
    "b205b67d654f43f9af4987782b9cfdcd": {
     "views": [
      {
       "cell_index": 4
      }
     ]
    },
    "b229d56f8b9247c5ba3eb77c1d20949b": {
     "views": [
      {
       "cell_index": 4
      }
     ]
    },
    "b437da89c5d241f8924971b98dfd0751": {
     "views": [
      {
       "cell_index": 4
      }
     ]
    },
    "b4a272f9767a4d089911c804cf1296eb": {
     "views": [
      {
       "cell_index": 4
      }
     ]
    },
    "b4d05ea47e75489aa9a5825fab8ae78a": {
     "views": [
      {
       "cell_index": 4
      }
     ]
    },
    "b4fff079d07f40a6b55f61a56e52890f": {
     "views": [
      {
       "cell_index": 4
      }
     ]
    },
    "b63d4205be9b45aeba5fca83baa5308f": {
     "views": [
      {
       "cell_index": 4
      }
     ]
    },
    "b6a92031ef594509b9214ebfd856e68e": {
     "views": [
      {
       "cell_index": 4
      }
     ]
    },
    "b6ab4e6ad9394ff5ae3caa1cfbe583c2": {
     "views": [
      {
       "cell_index": 4
      }
     ]
    },
    "b70fd4f039c14ed9ad6b68ad366b6549": {
     "views": [
      {
       "cell_index": 4
      }
     ]
    },
    "b78954acca6a4d898e794138448df6f1": {
     "views": [
      {
       "cell_index": 4
      }
     ]
    },
    "b7cb7e96e05e45f787c6c86aee157b33": {
     "views": [
      {
       "cell_index": 4
      }
     ]
    },
    "b86a3b9013bb45489259fc69cd2be1c5": {
     "views": [
      {
       "cell_index": 4
      }
     ]
    },
    "b91eb2847b5749cf8296597680045db3": {
     "views": [
      {
       "cell_index": 4
      }
     ]
    },
    "b92be6e7dcb840858036ce20c01d9be9": {
     "views": [
      {
       "cell_index": 4
      }
     ]
    },
    "b938b30b026b4bac804717bedc7789e9": {
     "views": [
      {
       "cell_index": 4
      }
     ]
    },
    "b95ebb7eb1f4407dac50dfe808d86488": {
     "views": [
      {
       "cell_index": 4
      }
     ]
    },
    "b9a154d27b104f5693604057fcbbc93f": {
     "views": [
      {
       "cell_index": 4
      }
     ]
    },
    "b9da7e03e7b54f3fadfbc13aa7ae9d5b": {
     "views": [
      {
       "cell_index": 4
      }
     ]
    },
    "b9f05034ca2c44c096a98ee8c5808ec5": {
     "views": [
      {
       "cell_index": 4
      }
     ]
    },
    "ba089238b831426597ebc6e8b3bd3732": {
     "views": [
      {
       "cell_index": 4
      }
     ]
    },
    "ba09b6f48a3e4a8bbe7f8de29dde5625": {
     "views": [
      {
       "cell_index": 4
      }
     ]
    },
    "ba58100ff730482bb947320e2c01dc76": {
     "views": [
      {
       "cell_index": 4
      }
     ]
    },
    "ba889ff3f6ee4e8680f5f989c493d7ed": {
     "views": [
      {
       "cell_index": 4
      }
     ]
    },
    "bade4dd041524d21bfec174ba08d4a7b": {
     "views": [
      {
       "cell_index": 4
      }
     ]
    },
    "bbff1e54dcaf4474aa85aa3638853e98": {
     "views": [
      {
       "cell_index": 4
      }
     ]
    },
    "bc1414cd36094dc5b254960b05373464": {
     "views": [
      {
       "cell_index": 4
      }
     ]
    },
    "bc6a649d3b6f40b98c91fc239ddfb5e3": {
     "views": [
      {
       "cell_index": 4
      }
     ]
    },
    "bcc9583f48bf407c9b449aa9751e9d3e": {
     "views": [
      {
       "cell_index": 4
      }
     ]
    },
    "bd4fd3557114483fa661d061884b1403": {
     "views": [
      {
       "cell_index": 4
      }
     ]
    },
    "bd7c27f52ac84031b48e93c9876ac5d3": {
     "views": [
      {
       "cell_index": 4
      }
     ]
    },
    "bdc29065428043529694abc33b432694": {
     "views": [
      {
       "cell_index": 4
      }
     ]
    },
    "c053e8e94026497ba8fe37888d6037df": {
     "views": [
      {
       "cell_index": 4
      }
     ]
    },
    "c0c55fe704d8460db70611b9c20ac165": {
     "views": [
      {
       "cell_index": 4
      }
     ]
    },
    "c1c6eb6a9cfb42f0892835b123a5a4ea": {
     "views": [
      {
       "cell_index": 4
      }
     ]
    },
    "c2a6165add4042eb914328be4feebd5c": {
     "views": [
      {
       "cell_index": 4
      }
     ]
    },
    "c32c344ab62943fd9b0b5cf9418aa197": {
     "views": [
      {
       "cell_index": 4
      }
     ]
    },
    "c3b64dab75494de4be9a7992cb3bd1e7": {
     "views": [
      {
       "cell_index": 4
      }
     ]
    },
    "c3b89e6404db4f38b2b38a89fae2f9d4": {
     "views": [
      {
       "cell_index": 4
      }
     ]
    },
    "c541689f5ec445bb927cd6b7188ab321": {
     "views": [
      {
       "cell_index": 4
      }
     ]
    },
    "c73c76c282bd46c28209f72432ec6610": {
     "views": [
      {
       "cell_index": 4
      }
     ]
    },
    "c7cb199e31774003a4a6594404e6a23b": {
     "views": [
      {
       "cell_index": 4
      }
     ]
    },
    "c7f55398a9774ba8933d6a9a0b88de06": {
     "views": [
      {
       "cell_index": 4
      }
     ]
    },
    "c80d2f379f6f4a98b65881d2d9d9eeb1": {
     "views": [
      {
       "cell_index": 4
      }
     ]
    },
    "c91fdf3486b64c089159d6d5a46a61f0": {
     "views": [
      {
       "cell_index": 4
      }
     ]
    },
    "c9e99154e37148b983be9d876ef70d6c": {
     "views": [
      {
       "cell_index": 4
      }
     ]
    },
    "ca3c0733b4384e2dbf943567b326ad09": {
     "views": [
      {
       "cell_index": 4
      }
     ]
    },
    "cb0e8eb581d34470864b6b1c5dd319ab": {
     "views": [
      {
       "cell_index": 4
      }
     ]
    },
    "cb2682e38dd643dbbd13259f0ecce690": {
     "views": [
      {
       "cell_index": 4
      }
     ]
    },
    "cb6950bda263466e8d61efd399e05959": {
     "views": [
      {
       "cell_index": 4
      }
     ]
    },
    "cc1993999a2e46feaed9880092f0ec25": {
     "views": [
      {
       "cell_index": 4
      }
     ]
    },
    "cc343640d1724044adbe62d5e31dab6a": {
     "views": [
      {
       "cell_index": 4
      }
     ]
    },
    "cc6af4ba6cd344e0b8cc6fc2ad4ace97": {
     "views": [
      {
       "cell_index": 4
      }
     ]
    },
    "cd9c8d3d7cb7475e9a1d3e9b58c6f61c": {
     "views": [
      {
       "cell_index": 4
      }
     ]
    },
    "ce12f793ef8b4366a231ebe91836357c": {
     "views": [
      {
       "cell_index": 4
      }
     ]
    },
    "ce7bd396117a412db873b2e275f9c63e": {
     "views": [
      {
       "cell_index": 4
      }
     ]
    },
    "cef1e4ce58f443e6a8414e15049bd563": {
     "views": [
      {
       "cell_index": 4
      }
     ]
    },
    "cf10934d9f8946d99c861d3b2f87a391": {
     "views": [
      {
       "cell_index": 4
      }
     ]
    },
    "cf43dfacdbac4d75a2ff18914264d488": {
     "views": [
      {
       "cell_index": 4
      }
     ]
    },
    "cf938f09a43b49878d7a1611ec7bb406": {
     "views": [
      {
       "cell_index": 4
      }
     ]
    },
    "d00403f22e9243998dd1dc25612fca2c": {
     "views": [
      {
       "cell_index": 4
      }
     ]
    },
    "d100c65da5364fb587d3a89f529c5c5f": {
     "views": [
      {
       "cell_index": 4
      }
     ]
    },
    "d1825faed57748f69c0d22028d82ec67": {
     "views": [
      {
       "cell_index": 4
      }
     ]
    },
    "d18e2313f5724ad0af538ea86a4cf3a0": {
     "views": [
      {
       "cell_index": 4
      }
     ]
    },
    "d278208289de4f85be25b2179e9b9ed3": {
     "views": [
      {
       "cell_index": 4
      }
     ]
    },
    "d342022e7a194b06809615675a51e3a0": {
     "views": [
      {
       "cell_index": 4
      }
     ]
    },
    "d38658979d4c43f581739293a7fe8ebb": {
     "views": [
      {
       "cell_index": 4
      }
     ]
    },
    "d3f11b36aa2145af9ddeca03fe7fb200": {
     "views": [
      {
       "cell_index": 4
      }
     ]
    },
    "d3f86fe622fc447c836fef4e1a8e8745": {
     "views": [
      {
       "cell_index": 4
      }
     ]
    },
    "d4787ed1136e44a485af28e4415dbd73": {
     "views": [
      {
       "cell_index": 4
      }
     ]
    },
    "d5f40def3b6c4e139d72c75ce6a90eaf": {
     "views": [
      {
       "cell_index": 4
      }
     ]
    },
    "d60215eb82984e239c0245b446f37454": {
     "views": [
      {
       "cell_index": 4
      }
     ]
    },
    "d66ef450a6e5425ba4039e60ebb5c0a6": {
     "views": [
      {
       "cell_index": 4
      }
     ]
    },
    "d6cfadf694ee44b7af29559cce598037": {
     "views": [
      {
       "cell_index": 4
      }
     ]
    },
    "d72f3c330b17492b81e0927e39dbd197": {
     "views": [
      {
       "cell_index": 4
      }
     ]
    },
    "d7c98d0a0cce412eae6a283068563b61": {
     "views": [
      {
       "cell_index": 4
      }
     ]
    },
    "d7fe45617b5147c4ac2937840f7baa64": {
     "views": [
      {
       "cell_index": 4
      }
     ]
    },
    "d90d712183ef40b6895f6464638f14a6": {
     "views": [
      {
       "cell_index": 4
      }
     ]
    },
    "d9b4d412bdac45c0a96cf19b158bc7bc": {
     "views": [
      {
       "cell_index": 4
      }
     ]
    },
    "da691e04e5ab4ef59b366f888749374d": {
     "views": [
      {
       "cell_index": 4
      }
     ]
    },
    "daa6fe2586d34146b07fded7eeec2a26": {
     "views": [
      {
       "cell_index": 4
      }
     ]
    },
    "db2ba1a4e8534e8986f9325084e585de": {
     "views": [
      {
       "cell_index": 4
      }
     ]
    },
    "db73b029d9584c8fa047c198e9f3fbef": {
     "views": [
      {
       "cell_index": 4
      }
     ]
    },
    "dd133e43f65f4bdda052296a9f750f2e": {
     "views": [
      {
       "cell_index": 4
      }
     ]
    },
    "ddfd6cb415e9436d8b40542d3b2ee96f": {
     "views": [
      {
       "cell_index": 4
      }
     ]
    },
    "deb3d824adfc4226bfc8c1b6d9eb7772": {
     "views": [
      {
       "cell_index": 4
      }
     ]
    },
    "dfb452fba50d412599dc32bbf32994d5": {
     "views": [
      {
       "cell_index": 4
      }
     ]
    },
    "e02bb5d4fd8d41c4b415f573a723cf6d": {
     "views": [
      {
       "cell_index": 4
      }
     ]
    },
    "e05b056a183a4941a681f4e2202f56d5": {
     "views": [
      {
       "cell_index": 4
      }
     ]
    },
    "e05c57b876ec481592dd5ca8a18b242f": {
     "views": [
      {
       "cell_index": 4
      }
     ]
    },
    "e0ba8963e27746f3a06f73a8f42a1ba7": {
     "views": [
      {
       "cell_index": 4
      }
     ]
    },
    "e1062cba638e43a98dcc2672507403f9": {
     "views": [
      {
       "cell_index": 4
      }
     ]
    },
    "e10b970f0fd04e8d99b1a6fe305856f2": {
     "views": [
      {
       "cell_index": 4
      }
     ]
    },
    "e24901125d0747da94f4f1e6d23f8be0": {
     "views": [
      {
       "cell_index": 4
      }
     ]
    },
    "e278c60e3373471a9c3ce7582c2765d6": {
     "views": [
      {
       "cell_index": 4
      }
     ]
    },
    "e29d1a7d1f4c45498a65e85f62075e74": {
     "views": [
      {
       "cell_index": 4
      }
     ]
    },
    "e3bd4a4b0165458fa448c51c6087bad6": {
     "views": [
      {
       "cell_index": 4
      }
     ]
    },
    "e435fe6c3321462e87b4c58456907d56": {
     "views": [
      {
       "cell_index": 4
      }
     ]
    },
    "e44f1b90d936490bafb6ada0282a8548": {
     "views": [
      {
       "cell_index": 4
      }
     ]
    },
    "e717d072e48e40789abc713ba4c09077": {
     "views": [
      {
       "cell_index": 4
      }
     ]
    },
    "e7bfa51ee06e409385bc02694bcf28f8": {
     "views": [
      {
       "cell_index": 4
      }
     ]
    },
    "e8422306cac14f3994cb1809a436668b": {
     "views": [
      {
       "cell_index": 4
      }
     ]
    },
    "e8df989183544f68b54a6f7110cccd34": {
     "views": [
      {
       "cell_index": 4
      }
     ]
    },
    "e943591d2ff64b11bcb3c4a72c182fc9": {
     "views": [
      {
       "cell_index": 4
      }
     ]
    },
    "e9f3731109164669b0e6c984d19d1084": {
     "views": [
      {
       "cell_index": 4
      }
     ]
    },
    "ea6b74c1bb6c4a508fb147a319d7a121": {
     "views": [
      {
       "cell_index": 4
      }
     ]
    },
    "ebb17e2e046f4cf6a7d63a656972f969": {
     "views": [
      {
       "cell_index": 4
      }
     ]
    },
    "ebc0585b9eaf4897a43fcd3f3b0db236": {
     "views": [
      {
       "cell_index": 4
      }
     ]
    },
    "ebee0f6780d64347a96d5498ff4ad6e8": {
     "views": [
      {
       "cell_index": 4
      }
     ]
    },
    "edac57df107742ae9d7557cea317d770": {
     "views": [
      {
       "cell_index": 4
      }
     ]
    },
    "ee4f446163684ff1bbeb5f0d80da7326": {
     "views": [
      {
       "cell_index": 4
      }
     ]
    },
    "ee85bc3e7fbe44cfa2ac449ffc60b2f0": {
     "views": [
      {
       "cell_index": 4
      }
     ]
    },
    "eeda51474e214a7aa320506becf02eb0": {
     "views": [
      {
       "cell_index": 4
      }
     ]
    },
    "f01b636c80ce4b84ab54d2db0cd42efe": {
     "views": [
      {
       "cell_index": 4
      }
     ]
    },
    "f125c0592ac642f28882e5755bfa449f": {
     "views": [
      {
       "cell_index": 4
      }
     ]
    },
    "f143cff7d2934b69b0a208f057abb6ea": {
     "views": [
      {
       "cell_index": 4
      }
     ]
    },
    "f1a47506af7441a09587d4fb6472f901": {
     "views": [
      {
       "cell_index": 4
      }
     ]
    },
    "f1f5a393a92e45e6a70ff18e3daa37a6": {
     "views": [
      {
       "cell_index": 4
      }
     ]
    },
    "f20ae3aea1c1449194fe03ebb727cae2": {
     "views": [
      {
       "cell_index": 4
      }
     ]
    },
    "f2372c8ca786463fbb222d625989c646": {
     "views": [
      {
       "cell_index": 4
      }
     ]
    },
    "f39ce621bed14abf964432918b1b4fe1": {
     "views": [
      {
       "cell_index": 4
      }
     ]
    },
    "f4c5eff2c2bd4756b8c11a8180d142fe": {
     "views": [
      {
       "cell_index": 4
      }
     ]
    },
    "f54af2504ce74b2fa3953f60727113f4": {
     "views": [
      {
       "cell_index": 4
      }
     ]
    },
    "f5f45d64f2ec4f7097bdc8c113ea4cd4": {
     "views": [
      {
       "cell_index": 4
      }
     ]
    },
    "f6dcb0c24a35412487cf98f82df1ae19": {
     "views": [
      {
       "cell_index": 4
      }
     ]
    },
    "f756f205e5b149018546677326c7724b": {
     "views": [
      {
       "cell_index": 4
      }
     ]
    },
    "f75c45eaff2f41b0a2291d7aea3a265e": {
     "views": [
      {
       "cell_index": 4
      }
     ]
    },
    "f7c1a00b18c54ae7bc7c3dd3b2d84998": {
     "views": [
      {
       "cell_index": 4
      }
     ]
    },
    "f8ab7111b85444c5b480c912e8734de2": {
     "views": [
      {
       "cell_index": 4
      }
     ]
    },
    "f8d7b69b586e44049af7299ae7a9bb57": {
     "views": [
      {
       "cell_index": 4
      }
     ]
    },
    "f904ce635d9d4d93bbf6df833d59da35": {
     "views": [
      {
       "cell_index": 4
      }
     ]
    },
    "f9be99dbd0d94823b43f43790d6c9e3d": {
     "views": [
      {
       "cell_index": 4
      }
     ]
    },
    "f9ded96adfa54df4a082730749940cc0": {
     "views": [
      {
       "cell_index": 4
      }
     ]
    },
    "fa59929b77204b6b84aae9b496ef213e": {
     "views": [
      {
       "cell_index": 4
      }
     ]
    },
    "fa5e3571a36442199a146341dd885ee0": {
     "views": [
      {
       "cell_index": 4
      }
     ]
    },
    "fab6c3fcb69044679d2c38b18b447c93": {
     "views": [
      {
       "cell_index": 4
      }
     ]
    },
    "fb908a5309c6460bad8b5b08272495f2": {
     "views": [
      {
       "cell_index": 4
      }
     ]
    },
    "fc15cd5e6d8d49bfaf67462348ad6bf3": {
     "views": [
      {
       "cell_index": 4
      }
     ]
    },
    "fc2582ddea5a4cd0b6038d4eaf2b4623": {
     "views": [
      {
       "cell_index": 4
      }
     ]
    },
    "fc2950c3b08149ebb4ac4509966efad0": {
     "views": [
      {
       "cell_index": 4
      }
     ]
    },
    "fc2ce90f428f437497fde86dbb64fa06": {
     "views": [
      {
       "cell_index": 4
      }
     ]
    },
    "fc889d141a244778ae44e4d0948378b2": {
     "views": [
      {
       "cell_index": 4
      }
     ]
    },
    "fcb64d7bac5445bbad7cce6c4a6aff7c": {
     "views": [
      {
       "cell_index": 4
      }
     ]
    },
    "fd241973cd304bc8976245631d77da19": {
     "views": [
      {
       "cell_index": 4
      }
     ]
    },
    "fd3d507f1da74327b0630d7a13aa52bf": {
     "views": [
      {
       "cell_index": 4
      }
     ]
    },
    "fe25ce7b416943acb9bba7eff0c3531c": {
     "views": [
      {
       "cell_index": 4
      }
     ]
    },
    "fe5c8b36c0294572bd7ca3754f70f040": {
     "views": [
      {
       "cell_index": 4
      }
     ]
    },
    "fea30589831a47a89e764132f2efd579": {
     "views": [
      {
       "cell_index": 4
      }
     ]
    },
    "ff8836feee5b4ddf99d46e02e737d4d0": {
     "views": [
      {
       "cell_index": 4
      }
     ]
    },
    "ffd4f9ae04514ab09ae677d369b56260": {
     "views": [
      {
       "cell_index": 4
      }
     ]
    },
    "ffdeb6de01e742fea203a0776db54013": {
     "views": [
      {
       "cell_index": 4
      }
     ]
    },
    "ffe54ee49de74d6dbe9f93ee5300fa01": {
     "views": [
      {
       "cell_index": 4
      }
     ]
    }
   },
   "version": "1.2.0"
  }
 },
 "nbformat": 4,
 "nbformat_minor": 2
}
